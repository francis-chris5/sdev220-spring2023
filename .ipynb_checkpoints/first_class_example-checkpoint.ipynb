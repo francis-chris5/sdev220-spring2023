{
 "cells": [
  {
   "cell_type": "code",
   "execution_count": 13,
   "id": "a4d5eb8c",
   "metadata": {},
   "outputs": [],
   "source": [
    "x = 1\n",
    "y = 2"
   ]
  },
  {
   "cell_type": "code",
   "execution_count": 3,
   "id": "bf6c97c3",
   "metadata": {},
   "outputs": [],
   "source": [
    "import emoji"
   ]
  },
  {
   "cell_type": "code",
   "execution_count": 4,
   "id": "c1243c15",
   "metadata": {},
   "outputs": [
    {
     "name": "stdout",
     "output_type": "stream",
     "text": [
      "12\n",
      "👍\n"
     ]
    }
   ],
   "source": [
    "print(x * y)\n",
    "print(emoji.emojize(\":thumbs_up:\"))"
   ]
  },
  {
   "cell_type": "markdown",
   "id": "cc208b08",
   "metadata": {},
   "source": [
    "basic syntax example"
   ]
  },
  {
   "cell_type": "code",
   "execution_count": 11,
   "id": "51053f5c",
   "metadata": {},
   "outputs": [],
   "source": [
    "a = x + y\n",
    "b = x * y\n",
    "c = x / y # floating point\n",
    "d = x // y ##integer division\n",
    "e = x % y ### modulus operator"
   ]
  },
  {
   "cell_type": "code",
   "execution_count": 14,
   "id": "8269b10b",
   "metadata": {},
   "outputs": [
    {
     "name": "stdout",
     "output_type": "stream",
     "text": [
      "product is bigger\n"
     ]
    }
   ],
   "source": [
    "if a > b:\n",
    "    print(\"sum is bigger\")\n",
    "elif a == b:\n",
    "    print(\"sum and product are the same\")\n",
    "else:\n",
    "    print(\"product is bigger\")"
   ]
  },
  {
   "cell_type": "code",
   "execution_count": null,
   "id": "ede7ac02",
   "metadata": {},
   "outputs": [],
   "source": []
  }
 ],
 "metadata": {
  "kernelspec": {
   "display_name": "Python 3 (ipykernel)",
   "language": "python",
   "name": "python3"
  },
  "language_info": {
   "codemirror_mode": {
    "name": "ipython",
    "version": 3
   },
   "file_extension": ".py",
   "mimetype": "text/x-python",
   "name": "python",
   "nbconvert_exporter": "python",
   "pygments_lexer": "ipython3",
   "version": "3.11.1"
  }
 },
 "nbformat": 4,
 "nbformat_minor": 5
}
