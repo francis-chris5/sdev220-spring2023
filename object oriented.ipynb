{
 "cells": [
  {
   "cell_type": "markdown",
   "id": "65ca61e3",
   "metadata": {},
   "source": [
    "object oriented programming example 1"
   ]
  },
  {
   "cell_type": "code",
   "execution_count": 3,
   "id": "820c8d30",
   "metadata": {},
   "outputs": [],
   "source": [
    "class Animal():\n",
    "    def __init__(self, name, age, weight, sound=\"Roar!\"):\n",
    "        self.name = name\n",
    "        self.age = age\n",
    "        self.weight = weight\n",
    "        self.sound = sound\n",
    "        \n",
    "    def makeSound(self):\n",
    "        return f\"{self.name} goes {self.sound}\"\n",
    "    \n",
    "    def __eq__(self, anim):\n",
    "        if isinstance(anim, Animal):\n",
    "            if self.weight == anim.weight:\n",
    "                return True\n",
    "            else:\n",
    "                return False\n",
    "            \n",
    "            \n",
    "    def __repr__(self):\n",
    "        return f\"{self.name} is {self.age} years old, weighs {self.weight} pounds and goes {self.sound}.\"\n",
    "        \n",
    "        \n",
    "    "
   ]
  },
  {
   "cell_type": "code",
   "execution_count": 7,
   "id": "2e3d87a7",
   "metadata": {},
   "outputs": [],
   "source": [
    "class Dog(Animal):\n",
    "    def __init__(self, bandanna, *args, **kwargs):\n",
    "        super().__init__(*args, **kwargs)\n",
    "        self.bandanna = bandanna\n",
    "        self.sound = \"woof\"\n",
    "        \n",
    "    def wearsBandanna(self):\n",
    "        if bandanna:\n",
    "            return f\"{self.name} does wear a bandanna\"\n",
    "        else:\n",
    "            return f\"don't put a bandanna on {self.name}\"\n",
    "        \n",
    "\n",
    "class Cat(Animal):\n",
    "    def __init__(self, *args, **kwargs):\n",
    "        super().__init__(*args, **kwargs)\n",
    "        self.sound = \"meow\"\n",
    "        \n",
    "        \n",
    "    "
   ]
  },
  {
   "cell_type": "code",
   "execution_count": null,
   "id": "245f8e50",
   "metadata": {},
   "outputs": [],
   "source": []
  },
  {
   "cell_type": "code",
   "execution_count": 8,
   "id": "a8db8a00",
   "metadata": {},
   "outputs": [],
   "source": [
    "fido = Dog(name=\"Fido\", age=4, weight=22, bandanna=True)\n",
    "fluffy = Cat(name=\"Fluffy\", age=8, weight=12)"
   ]
  },
  {
   "cell_type": "code",
   "execution_count": 9,
   "id": "b808af64",
   "metadata": {},
   "outputs": [
    {
     "name": "stdout",
     "output_type": "stream",
     "text": [
      "Fido is 4 years old, weighs 22 pounds and goes woof.\n"
     ]
    }
   ],
   "source": [
    "print(fido)"
   ]
  },
  {
   "cell_type": "code",
   "execution_count": 14,
   "id": "0169e0b6",
   "metadata": {},
   "outputs": [],
   "source": [
    "fluffy.weight = 22"
   ]
  },
  {
   "cell_type": "code",
   "execution_count": 15,
   "id": "e32d9cf7",
   "metadata": {},
   "outputs": [
    {
     "name": "stdout",
     "output_type": "stream",
     "text": [
      "that's a big cat there\n"
     ]
    }
   ],
   "source": [
    "if fluffy == fido:\n",
    "    print(\"that's a big cat there\")\n",
    "else:\n",
    "    print(\"everything seems normal here\")\n"
   ]
  },
  {
   "cell_type": "code",
   "execution_count": null,
   "id": "6121d7c0",
   "metadata": {},
   "outputs": [],
   "source": []
  }
 ],
 "metadata": {
  "kernelspec": {
   "display_name": "Python 3 (ipykernel)",
   "language": "python",
   "name": "python3"
  },
  "language_info": {
   "codemirror_mode": {
    "name": "ipython",
    "version": 3
   },
   "file_extension": ".py",
   "mimetype": "text/x-python",
   "name": "python",
   "nbconvert_exporter": "python",
   "pygments_lexer": "ipython3",
   "version": "3.11.1"
  }
 },
 "nbformat": 4,
 "nbformat_minor": 5
}
