{
 "cells": [
  {
   "cell_type": "code",
   "execution_count": 32,
   "id": "a4d5eb8c",
   "metadata": {},
   "outputs": [],
   "source": [
    "x = 3\n",
    "y = 4"
   ]
  },
  {
   "cell_type": "code",
   "execution_count": 33,
   "id": "bf6c97c3",
   "metadata": {},
   "outputs": [],
   "source": [
    "import emoji"
   ]
  },
  {
   "cell_type": "code",
   "execution_count": 34,
   "id": "c1243c15",
   "metadata": {},
   "outputs": [
    {
     "name": "stdout",
     "output_type": "stream",
     "text": [
      "12\n",
      "👍\n"
     ]
    }
   ],
   "source": [
    "print(x * y)\n",
    "print(emoji.emojize(\":thumbs_up:\"))"
   ]
  },
  {
   "cell_type": "markdown",
   "id": "dae83d87",
   "metadata": {},
   "source": [
    "basic syntax example"
   ]
  },
  {
   "cell_type": "code",
   "execution_count": 35,
   "id": "51053f5c",
   "metadata": {},
   "outputs": [],
   "source": [
    "a = x + y\n",
    "b = x * y\n",
    "c = x / y # floating point\n",
    "d = x // y ##integer division\n",
    "e = x % y ### modulus operator"
   ]
  },
  {
   "cell_type": "code",
   "execution_count": 36,
   "id": "2bfcad41",
   "metadata": {},
   "outputs": [
    {
     "name": "stdout",
     "output_type": "stream",
     "text": [
      "product is bigger\n"
     ]
    }
   ],
   "source": [
    "if a > b:\n",
    "    print(\"sum is bigger\")\n",
    "elif a == b:\n",
    "    print(\"sum and product are the same\")\n",
    "else:\n",
    "    print(\"product is bigger\")"
   ]
  },
  {
   "cell_type": "code",
   "execution_count": 37,
   "id": "fd091abd",
   "metadata": {},
   "outputs": [
    {
     "name": "stdout",
     "output_type": "stream",
     "text": [
      "19 84\n",
      "18.11 76.90799999999999\n",
      "17.24 70.22399999999999\n",
      "16.389999999999997 63.935999999999986\n",
      "15.559999999999997 58.03199999999998\n",
      "14.749999999999996 52.49999999999998\n",
      "13.959999999999996 47.327999999999975\n",
      "13.189999999999994 42.50399999999997\n",
      "12.439999999999994 38.01599999999997\n",
      "11.709999999999994 33.85199999999997\n",
      "10.999999999999993 29.999999999999968\n",
      "10.309999999999993 26.44799999999997\n",
      "9.639999999999993 23.183999999999966\n",
      "8.989999999999991 20.195999999999966\n"
     ]
    }
   ],
   "source": [
    "while a < b:\n",
    "    print(a+b, a*b)\n",
    "    x -= 0.1 ## x = x - 0.1\n",
    "    y -= 0.1\n",
    "    a =x + y\n",
    "    b = x * y"
   ]
  }
 ],
 "metadata": {
  "kernelspec": {
   "display_name": "Python 3 (ipykernel)",
   "language": "python",
   "name": "python3"
  },
  "language_info": {
   "codemirror_mode": {
    "name": "ipython",
    "version": 3
   },
   "file_extension": ".py",
   "mimetype": "text/x-python",
   "name": "python",
   "nbconvert_exporter": "python",
   "pygments_lexer": "ipython3",
   "version": "3.11.1"
  }
 },
 "nbformat": 4,
 "nbformat_minor": 5
}
