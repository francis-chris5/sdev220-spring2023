{
 "cells": [
  {
   "cell_type": "code",
   "execution_count": 2,
   "id": "73660212",
   "metadata": {},
   "outputs": [
    {
     "name": "stdout",
     "output_type": "stream",
     "text": [
      "Hello World\n"
     ]
    }
   ],
   "source": [
    "print(\"Hello World\")"
   ]
  },
  {
   "cell_type": "markdown",
   "id": "8e716448",
   "metadata": {},
   "source": [
    "this is just some text"
   ]
  },
  {
   "cell_type": "markdown",
   "id": "7d463401",
   "metadata": {},
   "source": [
    "<h1>Hello</h1> <p>world</p>"
   ]
  },
  {
   "cell_type": "code",
   "execution_count": null,
   "id": "9f1a186f",
   "metadata": {},
   "outputs": [],
   "source": []
  }
 ],
 "metadata": {
  "kernelspec": {
   "display_name": "Python 3 (ipykernel)",
   "language": "python",
   "name": "python3"
  },
  "language_info": {
   "codemirror_mode": {
    "name": "ipython",
    "version": 3
   },
   "file_extension": ".py",
   "mimetype": "text/x-python",
   "name": "python",
   "nbconvert_exporter": "python",
   "pygments_lexer": "ipython3",
   "version": "3.11.1"
  }
 },
 "nbformat": 4,
 "nbformat_minor": 5
}
